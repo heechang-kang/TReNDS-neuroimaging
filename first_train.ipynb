{
 "cells": [
  {
   "cell_type": "code",
   "execution_count": 1,
   "metadata": {},
   "outputs": [],
   "source": [
    "import numpy as np"
   ]
  },
  {
   "cell_type": "code",
   "execution_count": null,
   "metadata": {},
   "outputs": [],
   "source": []
  }
 ],
 "metadata": {
  "language_info": {
   "codemirror_mode": {
    "name": "ipython",
    "version": 3
   },
   "file_extension": ".py",
   "mimetype": "text/x-python",
   "name": "python",
   "nbconvert_exporter": "python",
   "pygments_lexer": "ipython3",
   "version": "3.7.6-final"
  },
  "orig_nbformat": 2,
  "kernelspec": {
   "name": "python37664bittrendsneuroimagingpipenvb16e688f44994de2af832db4ce5a0d2f",
   "display_name": "Python 3.7.6 64-bit ('TReNDS-neuroimaging': pipenv)"
  }
 },
 "nbformat": 4,
 "nbformat_minor": 2
}